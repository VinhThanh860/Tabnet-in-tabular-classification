{
 "cells": [
  {
   "cell_type": "code",
   "execution_count": 1,
   "id": "38964213",
   "metadata": {
    "_cell_guid": "b1076dfc-b9ad-4769-8c92-a6c4dae69d19",
    "_uuid": "8f2839f25d086af736a60e9eeb907d3b93b6e0e5",
    "execution": {
     "iopub.execute_input": "2025-05-23T05:15:57.049491Z",
     "iopub.status.busy": "2025-05-23T05:15:57.049206Z",
     "iopub.status.idle": "2025-05-23T05:17:14.010470Z",
     "shell.execute_reply": "2025-05-23T05:17:14.009513Z"
    },
    "papermill": {
     "duration": 76.967074,
     "end_time": "2025-05-23T05:17:14.012059",
     "exception": false,
     "start_time": "2025-05-23T05:15:57.044985",
     "status": "completed"
    },
    "tags": []
   },
   "outputs": [
    {
     "name": "stdout",
     "output_type": "stream",
     "text": [
      "Collecting pytorch-tabnet\r\n",
      "  Downloading pytorch_tabnet-4.1.0-py3-none-any.whl.metadata (15 kB)\r\n",
      "Requirement already satisfied: numpy>=1.17 in /usr/local/lib/python3.11/dist-packages (from pytorch-tabnet) (1.26.4)\r\n",
      "Requirement already satisfied: scikit_learn>0.21 in /usr/local/lib/python3.11/dist-packages (from pytorch-tabnet) (1.2.2)\r\n",
      "Requirement already satisfied: scipy>1.4 in /usr/local/lib/python3.11/dist-packages (from pytorch-tabnet) (1.15.2)\r\n",
      "Requirement already satisfied: torch>=1.3 in /usr/local/lib/python3.11/dist-packages (from pytorch-tabnet) (2.6.0+cu124)\r\n",
      "Requirement already satisfied: tqdm>=4.36 in /usr/local/lib/python3.11/dist-packages (from pytorch-tabnet) (4.67.1)\r\n",
      "Requirement already satisfied: mkl_fft in /usr/local/lib/python3.11/dist-packages (from numpy>=1.17->pytorch-tabnet) (1.3.8)\r\n",
      "Requirement already satisfied: mkl_random in /usr/local/lib/python3.11/dist-packages (from numpy>=1.17->pytorch-tabnet) (1.2.4)\r\n",
      "Requirement already satisfied: mkl_umath in /usr/local/lib/python3.11/dist-packages (from numpy>=1.17->pytorch-tabnet) (0.1.1)\r\n",
      "Requirement already satisfied: mkl in /usr/local/lib/python3.11/dist-packages (from numpy>=1.17->pytorch-tabnet) (2025.1.0)\r\n",
      "Requirement already satisfied: tbb4py in /usr/local/lib/python3.11/dist-packages (from numpy>=1.17->pytorch-tabnet) (2022.1.0)\r\n",
      "Requirement already satisfied: mkl-service in /usr/local/lib/python3.11/dist-packages (from numpy>=1.17->pytorch-tabnet) (2.4.1)\r\n",
      "Requirement already satisfied: joblib>=1.1.1 in /usr/local/lib/python3.11/dist-packages (from scikit_learn>0.21->pytorch-tabnet) (1.5.0)\r\n",
      "Requirement already satisfied: threadpoolctl>=2.0.0 in /usr/local/lib/python3.11/dist-packages (from scikit_learn>0.21->pytorch-tabnet) (3.6.0)\r\n",
      "Requirement already satisfied: filelock in /usr/local/lib/python3.11/dist-packages (from torch>=1.3->pytorch-tabnet) (3.18.0)\r\n",
      "Requirement already satisfied: typing-extensions>=4.10.0 in /usr/local/lib/python3.11/dist-packages (from torch>=1.3->pytorch-tabnet) (4.13.2)\r\n",
      "Requirement already satisfied: networkx in /usr/local/lib/python3.11/dist-packages (from torch>=1.3->pytorch-tabnet) (3.4.2)\r\n",
      "Requirement already satisfied: jinja2 in /usr/local/lib/python3.11/dist-packages (from torch>=1.3->pytorch-tabnet) (3.1.6)\r\n",
      "Requirement already satisfied: fsspec in /usr/local/lib/python3.11/dist-packages (from torch>=1.3->pytorch-tabnet) (2025.3.2)\r\n",
      "Requirement already satisfied: nvidia-cuda-nvrtc-cu12==12.4.127 in /usr/local/lib/python3.11/dist-packages (from torch>=1.3->pytorch-tabnet) (12.4.127)\r\n",
      "Requirement already satisfied: nvidia-cuda-runtime-cu12==12.4.127 in /usr/local/lib/python3.11/dist-packages (from torch>=1.3->pytorch-tabnet) (12.4.127)\r\n",
      "Requirement already satisfied: nvidia-cuda-cupti-cu12==12.4.127 in /usr/local/lib/python3.11/dist-packages (from torch>=1.3->pytorch-tabnet) (12.4.127)\r\n",
      "Collecting nvidia-cudnn-cu12==9.1.0.70 (from torch>=1.3->pytorch-tabnet)\r\n",
      "  Downloading nvidia_cudnn_cu12-9.1.0.70-py3-none-manylinux2014_x86_64.whl.metadata (1.6 kB)\r\n",
      "Collecting nvidia-cublas-cu12==12.4.5.8 (from torch>=1.3->pytorch-tabnet)\r\n",
      "  Downloading nvidia_cublas_cu12-12.4.5.8-py3-none-manylinux2014_x86_64.whl.metadata (1.5 kB)\r\n",
      "Collecting nvidia-cufft-cu12==11.2.1.3 (from torch>=1.3->pytorch-tabnet)\r\n",
      "  Downloading nvidia_cufft_cu12-11.2.1.3-py3-none-manylinux2014_x86_64.whl.metadata (1.5 kB)\r\n",
      "Collecting nvidia-curand-cu12==10.3.5.147 (from torch>=1.3->pytorch-tabnet)\r\n",
      "  Downloading nvidia_curand_cu12-10.3.5.147-py3-none-manylinux2014_x86_64.whl.metadata (1.5 kB)\r\n",
      "Collecting nvidia-cusolver-cu12==11.6.1.9 (from torch>=1.3->pytorch-tabnet)\r\n",
      "  Downloading nvidia_cusolver_cu12-11.6.1.9-py3-none-manylinux2014_x86_64.whl.metadata (1.6 kB)\r\n",
      "Collecting nvidia-cusparse-cu12==12.3.1.170 (from torch>=1.3->pytorch-tabnet)\r\n",
      "  Downloading nvidia_cusparse_cu12-12.3.1.170-py3-none-manylinux2014_x86_64.whl.metadata (1.6 kB)\r\n",
      "Requirement already satisfied: nvidia-cusparselt-cu12==0.6.2 in /usr/local/lib/python3.11/dist-packages (from torch>=1.3->pytorch-tabnet) (0.6.2)\r\n",
      "Requirement already satisfied: nvidia-nccl-cu12==2.21.5 in /usr/local/lib/python3.11/dist-packages (from torch>=1.3->pytorch-tabnet) (2.21.5)\r\n",
      "Requirement already satisfied: nvidia-nvtx-cu12==12.4.127 in /usr/local/lib/python3.11/dist-packages (from torch>=1.3->pytorch-tabnet) (12.4.127)\r\n",
      "Collecting nvidia-nvjitlink-cu12==12.4.127 (from torch>=1.3->pytorch-tabnet)\r\n",
      "  Downloading nvidia_nvjitlink_cu12-12.4.127-py3-none-manylinux2014_x86_64.whl.metadata (1.5 kB)\r\n",
      "Requirement already satisfied: triton==3.2.0 in /usr/local/lib/python3.11/dist-packages (from torch>=1.3->pytorch-tabnet) (3.2.0)\r\n",
      "Requirement already satisfied: sympy==1.13.1 in /usr/local/lib/python3.11/dist-packages (from torch>=1.3->pytorch-tabnet) (1.13.1)\r\n",
      "Requirement already satisfied: mpmath<1.4,>=1.1.0 in /usr/local/lib/python3.11/dist-packages (from sympy==1.13.1->torch>=1.3->pytorch-tabnet) (1.3.0)\r\n",
      "Requirement already satisfied: MarkupSafe>=2.0 in /usr/local/lib/python3.11/dist-packages (from jinja2->torch>=1.3->pytorch-tabnet) (3.0.2)\r\n",
      "Requirement already satisfied: intel-openmp<2026,>=2024 in /usr/local/lib/python3.11/dist-packages (from mkl->numpy>=1.17->pytorch-tabnet) (2024.2.0)\r\n",
      "Requirement already satisfied: tbb==2022.* in /usr/local/lib/python3.11/dist-packages (from mkl->numpy>=1.17->pytorch-tabnet) (2022.1.0)\r\n",
      "Requirement already satisfied: tcmlib==1.* in /usr/local/lib/python3.11/dist-packages (from tbb==2022.*->mkl->numpy>=1.17->pytorch-tabnet) (1.3.0)\r\n",
      "Requirement already satisfied: intel-cmplr-lib-rt in /usr/local/lib/python3.11/dist-packages (from mkl_umath->numpy>=1.17->pytorch-tabnet) (2024.2.0)\r\n",
      "Requirement already satisfied: intel-cmplr-lib-ur==2024.2.0 in /usr/local/lib/python3.11/dist-packages (from intel-openmp<2026,>=2024->mkl->numpy>=1.17->pytorch-tabnet) (2024.2.0)\r\n",
      "Downloading pytorch_tabnet-4.1.0-py3-none-any.whl (44 kB)\r\n",
      "\u001b[2K   \u001b[90m━━━━━━━━━━━━━━━━━━━━━━━━━━━━━━━━━━━━━━━━\u001b[0m \u001b[32m44.5/44.5 kB\u001b[0m \u001b[31m1.5 MB/s\u001b[0m eta \u001b[36m0:00:00\u001b[0m\r\n",
      "\u001b[?25hDownloading nvidia_cublas_cu12-12.4.5.8-py3-none-manylinux2014_x86_64.whl (363.4 MB)\r\n",
      "\u001b[2K   \u001b[90m━━━━━━━━━━━━━━━━━━━━━━━━━━━━━━━━━━━━━━━━\u001b[0m \u001b[32m363.4/363.4 MB\u001b[0m \u001b[31m4.8 MB/s\u001b[0m eta \u001b[36m0:00:00\u001b[0m\r\n",
      "\u001b[?25hDownloading nvidia_cudnn_cu12-9.1.0.70-py3-none-manylinux2014_x86_64.whl (664.8 MB)\r\n",
      "\u001b[2K   \u001b[90m━━━━━━━━━━━━━━━━━━━━━━━━━━━━━━━━━━━━━━━━\u001b[0m \u001b[32m664.8/664.8 MB\u001b[0m \u001b[31m2.2 MB/s\u001b[0m eta \u001b[36m0:00:00\u001b[0m\r\n",
      "\u001b[?25hDownloading nvidia_cufft_cu12-11.2.1.3-py3-none-manylinux2014_x86_64.whl (211.5 MB)\r\n",
      "\u001b[2K   \u001b[90m━━━━━━━━━━━━━━━━━━━━━━━━━━━━━━━━━━━━━━━━\u001b[0m \u001b[32m211.5/211.5 MB\u001b[0m \u001b[31m5.7 MB/s\u001b[0m eta \u001b[36m0:00:00\u001b[0m\r\n",
      "\u001b[?25hDownloading nvidia_curand_cu12-10.3.5.147-py3-none-manylinux2014_x86_64.whl (56.3 MB)\r\n",
      "\u001b[2K   \u001b[90m━━━━━━━━━━━━━━━━━━━━━━━━━━━━━━━━━━━━━━━━\u001b[0m \u001b[32m56.3/56.3 MB\u001b[0m \u001b[31m3.2 MB/s\u001b[0m eta \u001b[36m0:00:00\u001b[0m\r\n",
      "\u001b[?25hDownloading nvidia_cusolver_cu12-11.6.1.9-py3-none-manylinux2014_x86_64.whl (127.9 MB)\r\n",
      "\u001b[2K   \u001b[90m━━━━━━━━━━━━━━━━━━━━━━━━━━━━━━━━━━━━━━━━\u001b[0m \u001b[32m127.9/127.9 MB\u001b[0m \u001b[31m8.9 MB/s\u001b[0m eta \u001b[36m0:00:00\u001b[0m\r\n",
      "\u001b[?25hDownloading nvidia_cusparse_cu12-12.3.1.170-py3-none-manylinux2014_x86_64.whl (207.5 MB)\r\n",
      "\u001b[2K   \u001b[90m━━━━━━━━━━━━━━━━━━━━━━━━━━━━━━━━━━━━━━━━\u001b[0m \u001b[32m207.5/207.5 MB\u001b[0m \u001b[31m8.0 MB/s\u001b[0m eta \u001b[36m0:00:00\u001b[0m\r\n",
      "\u001b[?25hDownloading nvidia_nvjitlink_cu12-12.4.127-py3-none-manylinux2014_x86_64.whl (21.1 MB)\r\n",
      "\u001b[2K   \u001b[90m━━━━━━━━━━━━━━━━━━━━━━━━━━━━━━━━━━━━━━━━\u001b[0m \u001b[32m21.1/21.1 MB\u001b[0m \u001b[31m83.2 MB/s\u001b[0m eta \u001b[36m0:00:00\u001b[0m\r\n",
      "\u001b[?25hInstalling collected packages: nvidia-nvjitlink-cu12, nvidia-curand-cu12, nvidia-cufft-cu12, nvidia-cublas-cu12, nvidia-cusparse-cu12, nvidia-cudnn-cu12, nvidia-cusolver-cu12, pytorch-tabnet\r\n",
      "  Attempting uninstall: nvidia-nvjitlink-cu12\r\n",
      "    Found existing installation: nvidia-nvjitlink-cu12 12.9.41\r\n",
      "    Uninstalling nvidia-nvjitlink-cu12-12.9.41:\r\n",
      "      Successfully uninstalled nvidia-nvjitlink-cu12-12.9.41\r\n",
      "  Attempting uninstall: nvidia-curand-cu12\r\n",
      "    Found existing installation: nvidia-curand-cu12 10.3.10.19\r\n",
      "    Uninstalling nvidia-curand-cu12-10.3.10.19:\r\n",
      "      Successfully uninstalled nvidia-curand-cu12-10.3.10.19\r\n",
      "  Attempting uninstall: nvidia-cufft-cu12\r\n",
      "    Found existing installation: nvidia-cufft-cu12 11.4.0.6\r\n",
      "    Uninstalling nvidia-cufft-cu12-11.4.0.6:\r\n",
      "      Successfully uninstalled nvidia-cufft-cu12-11.4.0.6\r\n",
      "  Attempting uninstall: nvidia-cublas-cu12\r\n",
      "    Found existing installation: nvidia-cublas-cu12 12.9.0.13\r\n",
      "    Uninstalling nvidia-cublas-cu12-12.9.0.13:\r\n",
      "      Successfully uninstalled nvidia-cublas-cu12-12.9.0.13\r\n",
      "  Attempting uninstall: nvidia-cusparse-cu12\r\n",
      "    Found existing installation: nvidia-cusparse-cu12 12.5.9.5\r\n",
      "    Uninstalling nvidia-cusparse-cu12-12.5.9.5:\r\n",
      "      Successfully uninstalled nvidia-cusparse-cu12-12.5.9.5\r\n",
      "  Attempting uninstall: nvidia-cudnn-cu12\r\n",
      "    Found existing installation: nvidia-cudnn-cu12 9.3.0.75\r\n",
      "    Uninstalling nvidia-cudnn-cu12-9.3.0.75:\r\n",
      "      Successfully uninstalled nvidia-cudnn-cu12-9.3.0.75\r\n",
      "  Attempting uninstall: nvidia-cusolver-cu12\r\n",
      "    Found existing installation: nvidia-cusolver-cu12 11.7.4.40\r\n",
      "    Uninstalling nvidia-cusolver-cu12-11.7.4.40:\r\n",
      "      Successfully uninstalled nvidia-cusolver-cu12-11.7.4.40\r\n",
      "Successfully installed nvidia-cublas-cu12-12.4.5.8 nvidia-cudnn-cu12-9.1.0.70 nvidia-cufft-cu12-11.2.1.3 nvidia-curand-cu12-10.3.5.147 nvidia-cusolver-cu12-11.6.1.9 nvidia-cusparse-cu12-12.3.1.170 nvidia-nvjitlink-cu12-12.4.127 pytorch-tabnet-4.1.0\r\n"
     ]
    }
   ],
   "source": [
    "!pip install pytorch-tabnet"
   ]
  },
  {
   "cell_type": "markdown",
   "id": "75693399",
   "metadata": {
    "papermill": {
     "duration": 0.022681,
     "end_time": "2025-05-23T05:17:14.058939",
     "exception": false,
     "start_time": "2025-05-23T05:17:14.036258",
     "status": "completed"
    },
    "tags": []
   },
   "source": [
    "**Import libraries**"
   ]
  },
  {
   "cell_type": "code",
   "execution_count": 2,
   "id": "a7f38bab",
   "metadata": {
    "execution": {
     "iopub.execute_input": "2025-05-23T05:17:14.104735Z",
     "iopub.status.busy": "2025-05-23T05:17:14.104264Z",
     "iopub.status.idle": "2025-05-23T05:17:20.281227Z",
     "shell.execute_reply": "2025-05-23T05:17:20.280416Z"
    },
    "papermill": {
     "duration": 6.201599,
     "end_time": "2025-05-23T05:17:20.282836",
     "exception": false,
     "start_time": "2025-05-23T05:17:14.081237",
     "status": "completed"
    },
    "tags": []
   },
   "outputs": [],
   "source": [
    "import pandas as pd\n",
    "import numpy as np\n",
    "import matplotlib.pyplot as plt\n",
    "from sklearn.model_selection import train_test_split\n",
    "from sklearn.metrics import accuracy_score, f1_score\n",
    "from sklearn.preprocessing import StandardScaler\n",
    "from catboost import CatBoostClassifier\n",
    "from xgboost import XGBClassifier\n",
    "from pytorch_tabnet.tab_model import TabNetClassifier\n",
    "import torch\n",
    "import time"
   ]
  },
  {
   "cell_type": "code",
   "execution_count": 3,
   "id": "1d0d229c",
   "metadata": {
    "execution": {
     "iopub.execute_input": "2025-05-23T05:17:20.329317Z",
     "iopub.status.busy": "2025-05-23T05:17:20.328994Z",
     "iopub.status.idle": "2025-05-23T05:17:22.516976Z",
     "shell.execute_reply": "2025-05-23T05:17:22.516119Z"
    },
    "papermill": {
     "duration": 2.211912,
     "end_time": "2025-05-23T05:17:22.518210",
     "exception": false,
     "start_time": "2025-05-23T05:17:20.306298",
     "status": "completed"
    },
    "tags": []
   },
   "outputs": [
    {
     "name": "stdout",
     "output_type": "stream",
     "text": [
      "Dataset shape: (581012, 55)\n"
     ]
    },
    {
     "data": {
      "text/html": [
       "<div>\n",
       "<style scoped>\n",
       "    .dataframe tbody tr th:only-of-type {\n",
       "        vertical-align: middle;\n",
       "    }\n",
       "\n",
       "    .dataframe tbody tr th {\n",
       "        vertical-align: top;\n",
       "    }\n",
       "\n",
       "    .dataframe thead th {\n",
       "        text-align: right;\n",
       "    }\n",
       "</style>\n",
       "<table border=\"1\" class=\"dataframe\">\n",
       "  <thead>\n",
       "    <tr style=\"text-align: right;\">\n",
       "      <th></th>\n",
       "      <th>Cover_Type</th>\n",
       "      <th>Elevation</th>\n",
       "      <th>Aspect</th>\n",
       "      <th>Slope</th>\n",
       "      <th>Horizontal_Distance_To_Hydrology</th>\n",
       "      <th>Vertical_Distance_To_Hydrology</th>\n",
       "      <th>Horizontal_Distance_To_Roadways</th>\n",
       "      <th>Hillshade_9am</th>\n",
       "      <th>Hillshade_Noon</th>\n",
       "      <th>Hillshade_3pm</th>\n",
       "      <th>...</th>\n",
       "      <th>Soil_Type34</th>\n",
       "      <th>Soil_Type35</th>\n",
       "      <th>Soil_Type36</th>\n",
       "      <th>Soil_Type37</th>\n",
       "      <th>Soil_Type38</th>\n",
       "      <th>Soil_Type39</th>\n",
       "      <th>Soil_Type40</th>\n",
       "      <th>Wilderness_Area2</th>\n",
       "      <th>Wilderness_Area3</th>\n",
       "      <th>Wilderness_Area4</th>\n",
       "    </tr>\n",
       "  </thead>\n",
       "  <tbody>\n",
       "    <tr>\n",
       "      <th>0</th>\n",
       "      <td>5</td>\n",
       "      <td>2596</td>\n",
       "      <td>51</td>\n",
       "      <td>3</td>\n",
       "      <td>258</td>\n",
       "      <td>0</td>\n",
       "      <td>510</td>\n",
       "      <td>221</td>\n",
       "      <td>232</td>\n",
       "      <td>148</td>\n",
       "      <td>...</td>\n",
       "      <td>0</td>\n",
       "      <td>0</td>\n",
       "      <td>0</td>\n",
       "      <td>0</td>\n",
       "      <td>0</td>\n",
       "      <td>0</td>\n",
       "      <td>0</td>\n",
       "      <td>0</td>\n",
       "      <td>0</td>\n",
       "      <td>0</td>\n",
       "    </tr>\n",
       "    <tr>\n",
       "      <th>1</th>\n",
       "      <td>5</td>\n",
       "      <td>2590</td>\n",
       "      <td>56</td>\n",
       "      <td>2</td>\n",
       "      <td>212</td>\n",
       "      <td>-6</td>\n",
       "      <td>390</td>\n",
       "      <td>220</td>\n",
       "      <td>235</td>\n",
       "      <td>151</td>\n",
       "      <td>...</td>\n",
       "      <td>0</td>\n",
       "      <td>0</td>\n",
       "      <td>0</td>\n",
       "      <td>0</td>\n",
       "      <td>0</td>\n",
       "      <td>0</td>\n",
       "      <td>0</td>\n",
       "      <td>0</td>\n",
       "      <td>0</td>\n",
       "      <td>0</td>\n",
       "    </tr>\n",
       "    <tr>\n",
       "      <th>2</th>\n",
       "      <td>2</td>\n",
       "      <td>2804</td>\n",
       "      <td>139</td>\n",
       "      <td>9</td>\n",
       "      <td>268</td>\n",
       "      <td>65</td>\n",
       "      <td>3180</td>\n",
       "      <td>234</td>\n",
       "      <td>238</td>\n",
       "      <td>135</td>\n",
       "      <td>...</td>\n",
       "      <td>0</td>\n",
       "      <td>0</td>\n",
       "      <td>0</td>\n",
       "      <td>0</td>\n",
       "      <td>0</td>\n",
       "      <td>0</td>\n",
       "      <td>0</td>\n",
       "      <td>0</td>\n",
       "      <td>0</td>\n",
       "      <td>0</td>\n",
       "    </tr>\n",
       "    <tr>\n",
       "      <th>3</th>\n",
       "      <td>2</td>\n",
       "      <td>2785</td>\n",
       "      <td>155</td>\n",
       "      <td>18</td>\n",
       "      <td>242</td>\n",
       "      <td>118</td>\n",
       "      <td>3090</td>\n",
       "      <td>238</td>\n",
       "      <td>238</td>\n",
       "      <td>122</td>\n",
       "      <td>...</td>\n",
       "      <td>0</td>\n",
       "      <td>0</td>\n",
       "      <td>0</td>\n",
       "      <td>0</td>\n",
       "      <td>0</td>\n",
       "      <td>0</td>\n",
       "      <td>0</td>\n",
       "      <td>0</td>\n",
       "      <td>0</td>\n",
       "      <td>0</td>\n",
       "    </tr>\n",
       "    <tr>\n",
       "      <th>4</th>\n",
       "      <td>5</td>\n",
       "      <td>2595</td>\n",
       "      <td>45</td>\n",
       "      <td>2</td>\n",
       "      <td>153</td>\n",
       "      <td>-1</td>\n",
       "      <td>391</td>\n",
       "      <td>220</td>\n",
       "      <td>234</td>\n",
       "      <td>150</td>\n",
       "      <td>...</td>\n",
       "      <td>0</td>\n",
       "      <td>0</td>\n",
       "      <td>0</td>\n",
       "      <td>0</td>\n",
       "      <td>0</td>\n",
       "      <td>0</td>\n",
       "      <td>0</td>\n",
       "      <td>0</td>\n",
       "      <td>0</td>\n",
       "      <td>0</td>\n",
       "    </tr>\n",
       "  </tbody>\n",
       "</table>\n",
       "<p>5 rows × 55 columns</p>\n",
       "</div>"
      ],
      "text/plain": [
       "   Cover_Type  Elevation  Aspect  Slope  Horizontal_Distance_To_Hydrology  \\\n",
       "0           5       2596      51      3                               258   \n",
       "1           5       2590      56      2                               212   \n",
       "2           2       2804     139      9                               268   \n",
       "3           2       2785     155     18                               242   \n",
       "4           5       2595      45      2                               153   \n",
       "\n",
       "   Vertical_Distance_To_Hydrology  Horizontal_Distance_To_Roadways  \\\n",
       "0                               0                              510   \n",
       "1                              -6                              390   \n",
       "2                              65                             3180   \n",
       "3                             118                             3090   \n",
       "4                              -1                              391   \n",
       "\n",
       "   Hillshade_9am  Hillshade_Noon  Hillshade_3pm  ...  Soil_Type34  \\\n",
       "0            221             232            148  ...            0   \n",
       "1            220             235            151  ...            0   \n",
       "2            234             238            135  ...            0   \n",
       "3            238             238            122  ...            0   \n",
       "4            220             234            150  ...            0   \n",
       "\n",
       "   Soil_Type35  Soil_Type36  Soil_Type37  Soil_Type38  Soil_Type39  \\\n",
       "0            0            0            0            0            0   \n",
       "1            0            0            0            0            0   \n",
       "2            0            0            0            0            0   \n",
       "3            0            0            0            0            0   \n",
       "4            0            0            0            0            0   \n",
       "\n",
       "   Soil_Type40  Wilderness_Area2  Wilderness_Area3  Wilderness_Area4  \n",
       "0            0                 0                 0                 0  \n",
       "1            0                 0                 0                 0  \n",
       "2            0                 0                 0                 0  \n",
       "3            0                 0                 0                 0  \n",
       "4            0                 0                 0                 0  \n",
       "\n",
       "[5 rows x 55 columns]"
      ]
     },
     "execution_count": 3,
     "metadata": {},
     "output_type": "execute_result"
    }
   ],
   "source": [
    "# Đọc dữ liệu từ file CSV\n",
    "df = pd.read_csv('/kaggle/input/covertype-dataset/covertype/Covertype.csv')\n",
    "\n",
    "# Kiểm tra dữ liệu\n",
    "print(\"Dataset shape:\", df.shape)\n",
    "df.head()"
   ]
  },
  {
   "cell_type": "code",
   "execution_count": 4,
   "id": "44da8f6a",
   "metadata": {
    "execution": {
     "iopub.execute_input": "2025-05-23T05:17:22.565020Z",
     "iopub.status.busy": "2025-05-23T05:17:22.564790Z",
     "iopub.status.idle": "2025-05-23T05:17:22.756545Z",
     "shell.execute_reply": "2025-05-23T05:17:22.755948Z"
    },
    "papermill": {
     "duration": 0.216603,
     "end_time": "2025-05-23T05:17:22.757998",
     "exception": false,
     "start_time": "2025-05-23T05:17:22.541395",
     "status": "completed"
    },
    "tags": []
   },
   "outputs": [],
   "source": [
    "# https://github.com/google-research/google-research/blob/master/tabnet/data_helper_covertype.py\n",
    "NUMERIC_COLS = [\n",
    "    \"Elevation\", \"Aspect\", \"Slope\",\n",
    "    \"Horizontal_Distance_To_Hydrology\", \"Vertical_Distance_To_Hydrology\",\n",
    "    \"Horizontal_Distance_To_Roadways\", \"Hillshade_9am\", \"Hillshade_Noon\",\n",
    "    \"Hillshade_3pm\", \"Horizontal_Distance_To_Fire_Points\"\n",
    "]\n",
    "\n",
    "BOOL_COLS = [col for col in df.columns if col.startswith(\"Wilderness_Area\") or col.startswith(\"Soil_Type\")]\n",
    "\n",
    "# Ensure BOOL_COLS are integers\n",
    "df[BOOL_COLS] = df[BOOL_COLS].astype(int)\n",
    "\n",
    "# Final feature set\n",
    "FEATURES = NUMERIC_COLS + BOOL_COLS\n",
    "LABEL = 'Cover_Type'"
   ]
  },
  {
   "cell_type": "code",
   "execution_count": 5,
   "id": "66aec0a8",
   "metadata": {
    "execution": {
     "iopub.execute_input": "2025-05-23T05:17:22.805761Z",
     "iopub.status.busy": "2025-05-23T05:17:22.805091Z",
     "iopub.status.idle": "2025-05-23T05:17:24.220391Z",
     "shell.execute_reply": "2025-05-23T05:17:24.219452Z"
    },
    "papermill": {
     "duration": 1.439707,
     "end_time": "2025-05-23T05:17:24.221754",
     "exception": false,
     "start_time": "2025-05-23T05:17:22.782047",
     "status": "completed"
    },
    "tags": []
   },
   "outputs": [
    {
     "name": "stdout",
     "output_type": "stream",
     "text": [
      "Train: (464814, 54) Val: (58096, 54) Test: (58102, 54)\n"
     ]
    }
   ],
   "source": [
    "# Cell 5: Prepare data and splits\n",
    "X = df[FEATURES]\n",
    "y = df[LABEL] - 1  # Labels from 0 to 6 for TabNet\n",
    "# Stratified split: 80% train, 10% val, 10% test\n",
    "X_trainval, X_test, y_trainval, y_test = train_test_split(X, y, test_size=0.1, stratify=y, random_state=42)\n",
    "X_train, X_val, y_train, y_val = train_test_split(X_trainval, y_trainval, test_size=0.1111, stratify=y_trainval, random_state=42)\n",
    "print(\"Train:\", X_train.shape, \"Val:\", X_val.shape, \"Test:\", X_test.shape)"
   ]
  },
  {
   "cell_type": "code",
   "execution_count": 6,
   "id": "eac5b6b8",
   "metadata": {
    "execution": {
     "iopub.execute_input": "2025-05-23T05:17:24.270142Z",
     "iopub.status.busy": "2025-05-23T05:17:24.269901Z",
     "iopub.status.idle": "2025-05-23T05:17:24.755181Z",
     "shell.execute_reply": "2025-05-23T05:17:24.754358Z"
    },
    "papermill": {
     "duration": 0.509774,
     "end_time": "2025-05-23T05:17:24.756499",
     "exception": false,
     "start_time": "2025-05-23T05:17:24.246725",
     "status": "completed"
    },
    "tags": []
   },
   "outputs": [],
   "source": [
    "# Cell 6: Normalize only numerical columns (bool columns left as is)\n",
    "scaler = StandardScaler()\n",
    "X_train_num = scaler.fit_transform(X_train[NUMERIC_COLS])\n",
    "X_val_num = scaler.transform(X_val[NUMERIC_COLS])\n",
    "X_test_num = scaler.transform(X_test[NUMERIC_COLS])\n",
    "\n",
    "# Combine numeric + bool back\n",
    "X_train_scaled = np.hstack([X_train_num, X_train[BOOL_COLS].values])\n",
    "X_val_scaled = np.hstack([X_val_num, X_val[BOOL_COLS].values])\n",
    "X_test_scaled = np.hstack([X_test_num, X_test[BOOL_COLS].values])"
   ]
  },
  {
   "cell_type": "code",
   "execution_count": 7,
   "id": "ae840d5e",
   "metadata": {
    "execution": {
     "iopub.execute_input": "2025-05-23T05:17:24.850834Z",
     "iopub.status.busy": "2025-05-23T05:17:24.850504Z",
     "iopub.status.idle": "2025-05-23T05:17:24.854477Z",
     "shell.execute_reply": "2025-05-23T05:17:24.853801Z"
    },
    "papermill": {
     "duration": 0.028815,
     "end_time": "2025-05-23T05:17:24.855619",
     "exception": false,
     "start_time": "2025-05-23T05:17:24.826804",
     "status": "completed"
    },
    "tags": []
   },
   "outputs": [],
   "source": [
    "# Cell 7: Prepare data for TabNet\n",
    "X_train_np = X_train_scaled\n",
    "X_val_np = X_val_scaled\n",
    "X_test_np = X_test_scaled\n",
    "y_train_np = y_train.values\n",
    "y_val_np = y_val.values\n",
    "y_test_np = y_test.values"
   ]
  },
  {
   "cell_type": "code",
   "execution_count": 8,
   "id": "0df966fd",
   "metadata": {
    "execution": {
     "iopub.execute_input": "2025-05-23T05:17:24.901349Z",
     "iopub.status.busy": "2025-05-23T05:17:24.901127Z",
     "iopub.status.idle": "2025-05-23T06:46:55.497423Z",
     "shell.execute_reply": "2025-05-23T06:46:55.496820Z"
    },
    "papermill": {
     "duration": 5370.620781,
     "end_time": "2025-05-23T06:46:55.498972",
     "exception": false,
     "start_time": "2025-05-23T05:17:24.878191",
     "status": "completed"
    },
    "tags": []
   },
   "outputs": [
    {
     "name": "stderr",
     "output_type": "stream",
     "text": [
      "/usr/local/lib/python3.11/dist-packages/pytorch_tabnet/abstract_model.py:82: UserWarning: Device used : cuda\n",
      "  warnings.warn(f\"Device used : {self.device}\")\n"
     ]
    },
    {
     "name": "stdout",
     "output_type": "stream",
     "text": [
      "epoch 0  | loss: 0.75477 | val_0_accuracy: 0.7205  |  0:00:28s\n",
      "epoch 1  | loss: 0.63181 | val_0_accuracy: 0.75052 |  0:00:55s\n",
      "epoch 2  | loss: 0.5833  | val_0_accuracy: 0.76902 |  0:01:22s\n",
      "epoch 3  | loss: 0.53953 | val_0_accuracy: 0.78895 |  0:01:48s\n",
      "epoch 4  | loss: 0.49802 | val_0_accuracy: 0.81809 |  0:02:15s\n",
      "epoch 5  | loss: 0.44609 | val_0_accuracy: 0.83701 |  0:02:42s\n",
      "epoch 6  | loss: 0.39559 | val_0_accuracy: 0.8628  |  0:03:09s\n",
      "epoch 7  | loss: 0.34988 | val_0_accuracy: 0.8807  |  0:03:35s\n",
      "epoch 8  | loss: 0.32309 | val_0_accuracy: 0.86462 |  0:04:02s\n",
      "epoch 9  | loss: 0.31399 | val_0_accuracy: 0.89507 |  0:04:29s\n",
      "epoch 10 | loss: 0.28503 | val_0_accuracy: 0.90664 |  0:04:56s\n",
      "epoch 11 | loss: 0.2707  | val_0_accuracy: 0.91005 |  0:05:22s\n",
      "epoch 12 | loss: 0.25924 | val_0_accuracy: 0.91056 |  0:05:48s\n",
      "epoch 13 | loss: 0.25462 | val_0_accuracy: 0.91691 |  0:06:15s\n",
      "epoch 14 | loss: 0.24527 | val_0_accuracy: 0.91836 |  0:06:41s\n",
      "epoch 15 | loss: 0.2376  | val_0_accuracy: 0.9232  |  0:07:08s\n",
      "epoch 16 | loss: 0.23217 | val_0_accuracy: 0.92495 |  0:07:35s\n",
      "epoch 17 | loss: 0.2275  | val_0_accuracy: 0.92413 |  0:08:02s\n",
      "epoch 18 | loss: 0.22397 | val_0_accuracy: 0.92554 |  0:08:28s\n",
      "epoch 19 | loss: 0.2188  | val_0_accuracy: 0.92636 |  0:08:55s\n",
      "epoch 20 | loss: 0.21058 | val_0_accuracy: 0.9291  |  0:09:22s\n",
      "epoch 21 | loss: 0.21021 | val_0_accuracy: 0.93022 |  0:09:48s\n",
      "epoch 22 | loss: 0.2057  | val_0_accuracy: 0.93168 |  0:10:14s\n",
      "epoch 23 | loss: 0.20162 | val_0_accuracy: 0.93316 |  0:10:41s\n",
      "epoch 24 | loss: 0.20055 | val_0_accuracy: 0.93323 |  0:11:08s\n",
      "epoch 25 | loss: 0.19726 | val_0_accuracy: 0.93247 |  0:11:34s\n",
      "epoch 26 | loss: 0.19628 | val_0_accuracy: 0.93585 |  0:12:01s\n",
      "epoch 27 | loss: 0.19327 | val_0_accuracy: 0.93733 |  0:12:27s\n",
      "epoch 28 | loss: 0.19055 | val_0_accuracy: 0.93807 |  0:12:54s\n",
      "epoch 29 | loss: 0.1899  | val_0_accuracy: 0.92946 |  0:13:20s\n",
      "epoch 30 | loss: 0.18789 | val_0_accuracy: 0.93623 |  0:13:46s\n",
      "epoch 31 | loss: 0.18378 | val_0_accuracy: 0.93936 |  0:14:12s\n",
      "epoch 32 | loss: 0.18318 | val_0_accuracy: 0.93986 |  0:14:38s\n",
      "epoch 33 | loss: 0.18342 | val_0_accuracy: 0.93728 |  0:15:05s\n",
      "epoch 34 | loss: 0.18631 | val_0_accuracy: 0.94005 |  0:15:31s\n",
      "epoch 35 | loss: 0.17984 | val_0_accuracy: 0.94316 |  0:15:57s\n",
      "epoch 36 | loss: 0.17823 | val_0_accuracy: 0.94167 |  0:16:23s\n",
      "epoch 37 | loss: 0.18066 | val_0_accuracy: 0.93404 |  0:16:49s\n",
      "epoch 38 | loss: 0.1799  | val_0_accuracy: 0.94213 |  0:17:15s\n",
      "epoch 39 | loss: 0.17566 | val_0_accuracy: 0.94304 |  0:17:42s\n",
      "epoch 40 | loss: 0.17224 | val_0_accuracy: 0.94418 |  0:18:08s\n",
      "epoch 41 | loss: 0.17025 | val_0_accuracy: 0.94342 |  0:18:35s\n",
      "epoch 42 | loss: 0.16917 | val_0_accuracy: 0.9459  |  0:19:01s\n",
      "epoch 43 | loss: 0.16744 | val_0_accuracy: 0.94454 |  0:19:27s\n",
      "epoch 44 | loss: 0.16673 | val_0_accuracy: 0.94229 |  0:19:53s\n",
      "epoch 45 | loss: 0.16653 | val_0_accuracy: 0.94569 |  0:20:20s\n",
      "epoch 46 | loss: 0.17425 | val_0_accuracy: 0.94478 |  0:20:46s\n",
      "epoch 47 | loss: 0.16596 | val_0_accuracy: 0.94707 |  0:21:12s\n",
      "epoch 48 | loss: 0.16372 | val_0_accuracy: 0.94568 |  0:21:39s\n",
      "epoch 49 | loss: 0.16425 | val_0_accuracy: 0.94189 |  0:22:05s\n",
      "epoch 50 | loss: 0.16286 | val_0_accuracy: 0.94784 |  0:22:31s\n",
      "epoch 51 | loss: 0.15978 | val_0_accuracy: 0.94759 |  0:22:57s\n",
      "epoch 52 | loss: 0.1587  | val_0_accuracy: 0.94893 |  0:23:24s\n",
      "epoch 53 | loss: 0.15724 | val_0_accuracy: 0.94986 |  0:23:50s\n",
      "epoch 54 | loss: 0.15872 | val_0_accuracy: 0.94731 |  0:24:17s\n",
      "epoch 55 | loss: 0.15753 | val_0_accuracy: 0.94821 |  0:24:43s\n",
      "epoch 56 | loss: 0.15607 | val_0_accuracy: 0.94695 |  0:25:09s\n",
      "epoch 57 | loss: 0.1568  | val_0_accuracy: 0.9484  |  0:25:36s\n",
      "epoch 58 | loss: 0.15545 | val_0_accuracy: 0.95048 |  0:26:02s\n",
      "epoch 59 | loss: 0.15584 | val_0_accuracy: 0.94803 |  0:26:28s\n",
      "epoch 60 | loss: 0.15266 | val_0_accuracy: 0.95112 |  0:26:55s\n",
      "epoch 61 | loss: 0.15262 | val_0_accuracy: 0.95051 |  0:27:21s\n",
      "epoch 62 | loss: 0.15227 | val_0_accuracy: 0.95187 |  0:27:47s\n",
      "epoch 63 | loss: 0.15123 | val_0_accuracy: 0.9511  |  0:28:13s\n",
      "epoch 64 | loss: 0.15115 | val_0_accuracy: 0.95077 |  0:28:40s\n",
      "epoch 65 | loss: 0.15048 | val_0_accuracy: 0.95134 |  0:29:06s\n",
      "epoch 66 | loss: 0.14907 | val_0_accuracy: 0.95143 |  0:29:32s\n",
      "epoch 67 | loss: 0.15003 | val_0_accuracy: 0.95005 |  0:29:59s\n",
      "epoch 68 | loss: 0.14984 | val_0_accuracy: 0.95139 |  0:30:25s\n",
      "epoch 69 | loss: 0.14853 | val_0_accuracy: 0.95105 |  0:30:52s\n",
      "epoch 70 | loss: 0.14683 | val_0_accuracy: 0.95304 |  0:31:18s\n",
      "epoch 71 | loss: 0.14501 | val_0_accuracy: 0.95172 |  0:31:44s\n",
      "epoch 72 | loss: 0.14675 | val_0_accuracy: 0.95265 |  0:32:11s\n",
      "epoch 73 | loss: 0.14557 | val_0_accuracy: 0.95359 |  0:32:37s\n",
      "epoch 74 | loss: 0.14742 | val_0_accuracy: 0.95156 |  0:33:03s\n",
      "epoch 75 | loss: 0.14719 | val_0_accuracy: 0.95265 |  0:33:29s\n",
      "epoch 76 | loss: 0.14519 | val_0_accuracy: 0.95242 |  0:33:56s\n",
      "epoch 77 | loss: 0.14691 | val_0_accuracy: 0.95253 |  0:34:22s\n",
      "epoch 78 | loss: 0.14421 | val_0_accuracy: 0.95299 |  0:34:48s\n",
      "epoch 79 | loss: 0.14326 | val_0_accuracy: 0.95325 |  0:35:15s\n",
      "epoch 80 | loss: 0.14244 | val_0_accuracy: 0.95334 |  0:35:41s\n",
      "epoch 81 | loss: 0.13986 | val_0_accuracy: 0.95428 |  0:36:07s\n",
      "epoch 82 | loss: 0.14015 | val_0_accuracy: 0.95299 |  0:36:33s\n",
      "epoch 83 | loss: 0.14064 | val_0_accuracy: 0.95318 |  0:36:59s\n",
      "epoch 84 | loss: 0.14158 | val_0_accuracy: 0.94989 |  0:37:26s\n",
      "epoch 85 | loss: 0.14081 | val_0_accuracy: 0.95323 |  0:37:52s\n",
      "epoch 86 | loss: 0.13848 | val_0_accuracy: 0.95358 |  0:38:18s\n",
      "epoch 87 | loss: 0.13943 | val_0_accuracy: 0.95428 |  0:38:44s\n",
      "epoch 88 | loss: 0.1393  | val_0_accuracy: 0.95182 |  0:39:10s\n",
      "epoch 89 | loss: 0.14011 | val_0_accuracy: 0.95408 |  0:39:37s\n",
      "epoch 90 | loss: 0.13731 | val_0_accuracy: 0.95409 |  0:40:03s\n",
      "epoch 91 | loss: 0.13711 | val_0_accuracy: 0.95573 |  0:40:29s\n",
      "epoch 92 | loss: 0.13656 | val_0_accuracy: 0.9553  |  0:40:55s\n",
      "epoch 93 | loss: 0.136   | val_0_accuracy: 0.95454 |  0:41:21s\n",
      "epoch 94 | loss: 0.13694 | val_0_accuracy: 0.95466 |  0:41:48s\n",
      "epoch 95 | loss: 0.13524 | val_0_accuracy: 0.95666 |  0:42:14s\n",
      "epoch 96 | loss: 0.13593 | val_0_accuracy: 0.95507 |  0:42:40s\n",
      "epoch 97 | loss: 0.1353  | val_0_accuracy: 0.9554  |  0:43:06s\n",
      "epoch 98 | loss: 0.13498 | val_0_accuracy: 0.95485 |  0:43:33s\n",
      "epoch 99 | loss: 0.13455 | val_0_accuracy: 0.95461 |  0:43:59s\n",
      "epoch 100| loss: 0.13368 | val_0_accuracy: 0.95538 |  0:44:26s\n",
      "epoch 101| loss: 0.13423 | val_0_accuracy: 0.95389 |  0:44:52s\n",
      "epoch 102| loss: 0.13348 | val_0_accuracy: 0.95521 |  0:45:18s\n",
      "epoch 103| loss: 0.13308 | val_0_accuracy: 0.95606 |  0:45:44s\n",
      "epoch 104| loss: 0.13303 | val_0_accuracy: 0.95578 |  0:46:11s\n",
      "epoch 105| loss: 0.13285 | val_0_accuracy: 0.95578 |  0:46:37s\n",
      "epoch 106| loss: 0.13179 | val_0_accuracy: 0.95513 |  0:47:03s\n",
      "epoch 107| loss: 0.13145 | val_0_accuracy: 0.95456 |  0:47:29s\n",
      "epoch 108| loss: 0.13183 | val_0_accuracy: 0.95671 |  0:47:55s\n",
      "epoch 109| loss: 0.13271 | val_0_accuracy: 0.95533 |  0:48:21s\n",
      "epoch 110| loss: 0.12983 | val_0_accuracy: 0.95645 |  0:48:48s\n",
      "epoch 111| loss: 0.13064 | val_0_accuracy: 0.95711 |  0:49:14s\n",
      "epoch 112| loss: 0.13086 | val_0_accuracy: 0.95606 |  0:49:40s\n",
      "epoch 113| loss: 0.13126 | val_0_accuracy: 0.95649 |  0:50:07s\n",
      "epoch 114| loss: 0.12838 | val_0_accuracy: 0.95757 |  0:50:33s\n",
      "epoch 115| loss: 0.12943 | val_0_accuracy: 0.95664 |  0:50:59s\n",
      "epoch 116| loss: 0.12995 | val_0_accuracy: 0.95645 |  0:51:25s\n",
      "epoch 117| loss: 0.12894 | val_0_accuracy: 0.95542 |  0:51:51s\n",
      "epoch 118| loss: 0.12873 | val_0_accuracy: 0.95698 |  0:52:18s\n",
      "epoch 119| loss: 0.12717 | val_0_accuracy: 0.95788 |  0:52:45s\n",
      "epoch 120| loss: 0.12618 | val_0_accuracy: 0.95719 |  0:53:11s\n",
      "epoch 121| loss: 0.12626 | val_0_accuracy: 0.95731 |  0:53:37s\n",
      "epoch 122| loss: 0.12659 | val_0_accuracy: 0.95664 |  0:54:04s\n",
      "epoch 123| loss: 0.12547 | val_0_accuracy: 0.95776 |  0:54:30s\n",
      "epoch 124| loss: 0.1262  | val_0_accuracy: 0.95637 |  0:54:57s\n",
      "epoch 125| loss: 0.12613 | val_0_accuracy: 0.95764 |  0:55:23s\n",
      "epoch 126| loss: 0.12718 | val_0_accuracy: 0.95748 |  0:55:50s\n",
      "epoch 127| loss: 0.12595 | val_0_accuracy: 0.95747 |  0:56:15s\n",
      "epoch 128| loss: 0.12619 | val_0_accuracy: 0.95795 |  0:56:42s\n",
      "epoch 129| loss: 0.12516 | val_0_accuracy: 0.95821 |  0:57:08s\n",
      "epoch 130| loss: 0.12456 | val_0_accuracy: 0.95859 |  0:57:35s\n",
      "epoch 131| loss: 0.12351 | val_0_accuracy: 0.95836 |  0:58:02s\n",
      "epoch 132| loss: 0.12557 | val_0_accuracy: 0.95817 |  0:58:28s\n",
      "epoch 133| loss: 0.12484 | val_0_accuracy: 0.95786 |  0:58:54s\n",
      "epoch 134| loss: 0.1235  | val_0_accuracy: 0.95881 |  0:59:20s\n",
      "epoch 135| loss: 0.12336 | val_0_accuracy: 0.95821 |  0:59:47s\n",
      "epoch 136| loss: 0.12335 | val_0_accuracy: 0.95884 |  1:00:14s\n",
      "epoch 137| loss: 0.12458 | val_0_accuracy: 0.95893 |  1:00:40s\n",
      "epoch 138| loss: 0.12401 | val_0_accuracy: 0.95969 |  1:01:06s\n",
      "epoch 139| loss: 0.12322 | val_0_accuracy: 0.95805 |  1:01:32s\n",
      "epoch 140| loss: 0.12172 | val_0_accuracy: 0.95838 |  1:01:58s\n",
      "epoch 141| loss: 0.12138 | val_0_accuracy: 0.95855 |  1:02:25s\n",
      "epoch 142| loss: 0.12225 | val_0_accuracy: 0.95914 |  1:02:51s\n",
      "epoch 143| loss: 0.1218  | val_0_accuracy: 0.95865 |  1:03:17s\n",
      "epoch 144| loss: 0.12087 | val_0_accuracy: 0.95876 |  1:03:44s\n",
      "epoch 145| loss: 0.12146 | val_0_accuracy: 0.95795 |  1:04:10s\n",
      "epoch 146| loss: 0.12095 | val_0_accuracy: 0.95921 |  1:04:36s\n",
      "epoch 147| loss: 0.12195 | val_0_accuracy: 0.95884 |  1:05:02s\n",
      "epoch 148| loss: 0.12202 | val_0_accuracy: 0.95924 |  1:05:29s\n",
      "epoch 149| loss: 0.12073 | val_0_accuracy: 0.96008 |  1:05:55s\n",
      "epoch 150| loss: 0.11977 | val_0_accuracy: 0.95717 |  1:06:21s\n",
      "epoch 151| loss: 0.12033 | val_0_accuracy: 0.96026 |  1:06:48s\n",
      "epoch 152| loss: 0.11951 | val_0_accuracy: 0.95927 |  1:07:14s\n",
      "epoch 153| loss: 0.12101 | val_0_accuracy: 0.95828 |  1:07:40s\n",
      "epoch 154| loss: 0.12081 | val_0_accuracy: 0.95893 |  1:08:07s\n",
      "epoch 155| loss: 0.11909 | val_0_accuracy: 0.95933 |  1:08:33s\n",
      "epoch 156| loss: 0.11917 | val_0_accuracy: 0.95921 |  1:08:59s\n",
      "epoch 157| loss: 0.11928 | val_0_accuracy: 0.95946 |  1:09:25s\n",
      "epoch 158| loss: 0.11983 | val_0_accuracy: 0.95883 |  1:09:51s\n",
      "epoch 159| loss: 0.11934 | val_0_accuracy: 0.9602  |  1:10:18s\n",
      "epoch 160| loss: 0.11984 | val_0_accuracy: 0.96034 |  1:10:45s\n",
      "epoch 161| loss: 0.11716 | val_0_accuracy: 0.95957 |  1:11:11s\n",
      "epoch 162| loss: 0.1172  | val_0_accuracy: 0.96041 |  1:11:37s\n",
      "epoch 163| loss: 0.11765 | val_0_accuracy: 0.96001 |  1:12:03s\n",
      "epoch 164| loss: 0.1179  | val_0_accuracy: 0.9597  |  1:12:30s\n",
      "epoch 165| loss: 0.11762 | val_0_accuracy: 0.95941 |  1:12:57s\n",
      "epoch 166| loss: 0.11733 | val_0_accuracy: 0.9584  |  1:13:24s\n",
      "epoch 167| loss: 0.11774 | val_0_accuracy: 0.96029 |  1:13:50s\n",
      "epoch 168| loss: 0.11617 | val_0_accuracy: 0.96082 |  1:14:17s\n",
      "epoch 169| loss: 0.11665 | val_0_accuracy: 0.95924 |  1:14:44s\n",
      "epoch 170| loss: 0.11665 | val_0_accuracy: 0.95957 |  1:15:10s\n",
      "epoch 171| loss: 0.115   | val_0_accuracy: 0.96013 |  1:15:36s\n",
      "epoch 172| loss: 0.11575 | val_0_accuracy: 0.96055 |  1:16:02s\n",
      "epoch 173| loss: 0.11548 | val_0_accuracy: 0.95957 |  1:16:29s\n",
      "epoch 174| loss: 0.11568 | val_0_accuracy: 0.96031 |  1:16:55s\n",
      "epoch 175| loss: 0.11538 | val_0_accuracy: 0.9595  |  1:17:22s\n",
      "epoch 176| loss: 0.11517 | val_0_accuracy: 0.96086 |  1:17:48s\n",
      "epoch 177| loss: 0.11534 | val_0_accuracy: 0.9601  |  1:18:15s\n",
      "epoch 178| loss: 0.1157  | val_0_accuracy: 0.96019 |  1:18:41s\n",
      "epoch 179| loss: 0.11519 | val_0_accuracy: 0.95964 |  1:19:08s\n",
      "epoch 180| loss: 0.11594 | val_0_accuracy: 0.96013 |  1:19:35s\n",
      "epoch 181| loss: 0.11374 | val_0_accuracy: 0.96026 |  1:20:01s\n",
      "epoch 182| loss: 0.11502 | val_0_accuracy: 0.9606  |  1:20:27s\n",
      "epoch 183| loss: 0.11497 | val_0_accuracy: 0.96113 |  1:20:53s\n",
      "epoch 184| loss: 0.11438 | val_0_accuracy: 0.95941 |  1:21:20s\n",
      "epoch 185| loss: 0.11386 | val_0_accuracy: 0.95993 |  1:21:46s\n",
      "epoch 186| loss: 0.11388 | val_0_accuracy: 0.96048 |  1:22:13s\n",
      "epoch 187| loss: 0.1133  | val_0_accuracy: 0.96043 |  1:22:41s\n",
      "epoch 188| loss: 0.11405 | val_0_accuracy: 0.9605  |  1:23:08s\n",
      "epoch 189| loss: 0.11319 | val_0_accuracy: 0.96044 |  1:23:37s\n",
      "epoch 190| loss: 0.11299 | val_0_accuracy: 0.96086 |  1:24:04s\n",
      "epoch 191| loss: 0.11237 | val_0_accuracy: 0.96032 |  1:24:31s\n",
      "epoch 192| loss: 0.11292 | val_0_accuracy: 0.96089 |  1:24:58s\n",
      "epoch 193| loss: 0.11379 | val_0_accuracy: 0.96088 |  1:25:25s\n",
      "epoch 194| loss: 0.11327 | val_0_accuracy: 0.9607  |  1:25:51s\n",
      "epoch 195| loss: 0.11326 | val_0_accuracy: 0.96084 |  1:26:17s\n",
      "epoch 196| loss: 0.11327 | val_0_accuracy: 0.95989 |  1:26:44s\n",
      "epoch 197| loss: 0.11249 | val_0_accuracy: 0.96053 |  1:27:11s\n",
      "epoch 198| loss: 0.11112 | val_0_accuracy: 0.96174 |  1:27:37s\n",
      "epoch 199| loss: 0.1116  | val_0_accuracy: 0.96001 |  1:28:04s\n",
      "Stop training because you reached max_epochs = 200 with best_epoch = 198 and best_val_0_accuracy = 0.96174\n"
     ]
    },
    {
     "name": "stderr",
     "output_type": "stream",
     "text": [
      "/usr/local/lib/python3.11/dist-packages/pytorch_tabnet/callbacks.py:172: UserWarning: Best weights from best epoch are automatically used!\n",
      "  warnings.warn(wrn_msg)\n"
     ]
    }
   ],
   "source": [
    "# Train TabNet (paper-based configuration)\n",
    "tabnet = TabNetClassifier(\n",
    "    n_d=64,                     # Decision layer dimension\n",
    "    n_a=64,                     # Attention embedding dimension\n",
    "    n_steps=5,                  # Number of decision steps\n",
    "    gamma=1.5,                  # Relaxation factor\n",
    "    lambda_sparse=1e-4,         # Sparsity regularization\n",
    "    optimizer_fn=torch.optim.Adam,\n",
    "    optimizer_params=dict(lr=2e-2),  # Learning rate\n",
    "    scheduler_fn=torch.optim.lr_scheduler.StepLR,\n",
    "    scheduler_params=dict(step_size=10, gamma=0.95),  # LR scheduler\n",
    "    mask_type='sparsemax',      # Use sparsemax for interpretability\n",
    "    device_name='cuda' if torch.cuda.is_available() else 'cpu',\n",
    "    verbose=1                   # Show training logs\n",
    ")\n",
    "\n",
    "# Fit TabNet\n",
    "start = time.time()\n",
    "tabnet.fit(\n",
    "    X_train=X_train_np, y_train=y_train_np,\n",
    "    eval_set=[(X_val_np, y_val_np)],\n",
    "    eval_metric=['accuracy'],\n",
    "    max_epochs=200,\n",
    "    patience=20,\n",
    "    batch_size=1024,\n",
    "    virtual_batch_size=128,\n",
    "    num_workers=0,\n",
    "    drop_last=False\n",
    ")\n",
    "tabnet_time = time.time() - start"
   ]
  },
  {
   "cell_type": "code",
   "execution_count": 9,
   "id": "7665f7e1",
   "metadata": {
    "execution": {
     "iopub.execute_input": "2025-05-23T06:46:55.562317Z",
     "iopub.status.busy": "2025-05-23T06:46:55.561985Z",
     "iopub.status.idle": "2025-05-23T06:46:57.095887Z",
     "shell.execute_reply": "2025-05-23T06:46:57.094962Z"
    },
    "papermill": {
     "duration": 1.566428,
     "end_time": "2025-05-23T06:46:57.097098",
     "exception": false,
     "start_time": "2025-05-23T06:46:55.530670",
     "status": "completed"
    },
    "tags": []
   },
   "outputs": [
    {
     "name": "stdout",
     "output_type": "stream",
     "text": [
      "✅ TabNet Accuracy: 0.9609135657980793\n",
      "✅ TabNet F1 Score: 0.9351878691276585\n",
      "⏱ Train time: 5370.52 s\n"
     ]
    }
   ],
   "source": [
    "#Evaluate TabNet\n",
    "y_pred_tabnet = tabnet.predict(X_test_np)\n",
    "acc_tabnet = accuracy_score(y_test_np, y_pred_tabnet)\n",
    "f1_tabnet = f1_score(y_test_np, y_pred_tabnet, average='macro')\n",
    "print(\"✅ TabNet Accuracy:\", acc_tabnet)\n",
    "print(\"✅ TabNet F1 Score:\", f1_tabnet)\n",
    "print(\"⏱ Train time: %.2f s\" % tabnet_time)"
   ]
  },
  {
   "cell_type": "code",
   "execution_count": 10,
   "id": "422f65ad",
   "metadata": {
    "execution": {
     "iopub.execute_input": "2025-05-23T06:46:57.159943Z",
     "iopub.status.busy": "2025-05-23T06:46:57.159692Z",
     "iopub.status.idle": "2025-05-23T06:47:23.125727Z",
     "shell.execute_reply": "2025-05-23T06:47:23.124893Z"
    },
    "papermill": {
     "duration": 25.998939,
     "end_time": "2025-05-23T06:47:23.127341",
     "exception": false,
     "start_time": "2025-05-23T06:46:57.128402",
     "status": "completed"
    },
    "tags": []
   },
   "outputs": [],
   "source": [
    "#Train XGBoost\n",
    "xgb = XGBClassifier(tree_method='hist', eval_metric='mlogloss', use_label_encoder=False)\n",
    "start = time.time()\n",
    "xgb.fit(X_train_scaled, y_train)\n",
    "xgb_time = time.time() - start"
   ]
  },
  {
   "cell_type": "code",
   "execution_count": 11,
   "id": "5fc7bb86",
   "metadata": {
    "execution": {
     "iopub.execute_input": "2025-05-23T06:47:23.192679Z",
     "iopub.status.busy": "2025-05-23T06:47:23.192022Z",
     "iopub.status.idle": "2025-05-23T06:47:23.637028Z",
     "shell.execute_reply": "2025-05-23T06:47:23.636211Z"
    },
    "papermill": {
     "duration": 0.477711,
     "end_time": "2025-05-23T06:47:23.638295",
     "exception": false,
     "start_time": "2025-05-23T06:47:23.160584",
     "status": "completed"
    },
    "tags": []
   },
   "outputs": [
    {
     "name": "stdout",
     "output_type": "stream",
     "text": [
      "✅ XGBoost Accuracy: 0.8703314860073663\n",
      "✅ XGBoost F1 Score: 0.8535140697221861\n",
      "⏱ Train time: 25.96 s\n"
     ]
    }
   ],
   "source": [
    "#Evaluate XGBoost\n",
    "y_pred_xgb = xgb.predict(X_test_scaled)\n",
    "acc_xgb = accuracy_score(y_test, y_pred_xgb)\n",
    "f1_xgb = f1_score(y_test, y_pred_xgb, average='macro')\n",
    "print(\"✅ XGBoost Accuracy:\", acc_xgb)\n",
    "print(\"✅ XGBoost F1 Score:\", f1_xgb)\n",
    "print(\"⏱ Train time: %.2f s\" % xgb_time)"
   ]
  },
  {
   "cell_type": "code",
   "execution_count": 12,
   "id": "ea9ef53a",
   "metadata": {
    "execution": {
     "iopub.execute_input": "2025-05-23T06:47:23.700100Z",
     "iopub.status.busy": "2025-05-23T06:47:23.699903Z",
     "iopub.status.idle": "2025-05-23T06:50:10.451095Z",
     "shell.execute_reply": "2025-05-23T06:50:10.450480Z"
    },
    "papermill": {
     "duration": 166.782944,
     "end_time": "2025-05-23T06:50:10.452457",
     "exception": false,
     "start_time": "2025-05-23T06:47:23.669513",
     "status": "completed"
    },
    "tags": []
   },
   "outputs": [],
   "source": [
    "#Train CatBoost\n",
    "cat = CatBoostClassifier(verbose=0)\n",
    "start = time.time()\n",
    "cat.fit(X_train, y_train)\n",
    "cat_time = time.time() - start"
   ]
  },
  {
   "cell_type": "code",
   "execution_count": 13,
   "id": "e9b03f88",
   "metadata": {
    "execution": {
     "iopub.execute_input": "2025-05-23T06:50:10.516331Z",
     "iopub.status.busy": "2025-05-23T06:50:10.516068Z",
     "iopub.status.idle": "2025-05-23T06:50:10.689230Z",
     "shell.execute_reply": "2025-05-23T06:50:10.688484Z"
    },
    "papermill": {
     "duration": 0.205757,
     "end_time": "2025-05-23T06:50:10.690298",
     "exception": false,
     "start_time": "2025-05-23T06:50:10.484541",
     "status": "completed"
    },
    "tags": []
   },
   "outputs": [
    {
     "name": "stdout",
     "output_type": "stream",
     "text": [
      "✅ CatBoost Accuracy: 0.8852190974493133\n",
      "✅ CatBoost F1 Score: 0.8516380544623267\n",
      "⏱ Train time: 166.75 s\n"
     ]
    }
   ],
   "source": [
    "#Evaluate CatBoost\n",
    "y_pred_cat = cat.predict(X_test)\n",
    "acc_cat = accuracy_score(y_test, y_pred_cat)\n",
    "f1_cat = f1_score(y_test, y_pred_cat, average='macro')\n",
    "print(\"✅ CatBoost Accuracy:\", acc_cat)\n",
    "print(\"✅ CatBoost F1 Score:\", f1_cat)\n",
    "print(\"⏱ Train time: %.2f s\" % cat_time)"
   ]
  },
  {
   "cell_type": "code",
   "execution_count": 14,
   "id": "1c3f6fd1",
   "metadata": {
    "execution": {
     "iopub.execute_input": "2025-05-23T06:50:10.753056Z",
     "iopub.status.busy": "2025-05-23T06:50:10.752800Z",
     "iopub.status.idle": "2025-05-23T06:50:11.135506Z",
     "shell.execute_reply": "2025-05-23T06:50:11.134776Z"
    },
    "papermill": {
     "duration": 0.415139,
     "end_time": "2025-05-23T06:50:11.136878",
     "exception": false,
     "start_time": "2025-05-23T06:50:10.721739",
     "status": "completed"
    },
    "tags": []
   },
   "outputs": [
    {
     "data": {
      "image/png": "[encoded data removed]",
      "text/plain": [
       "<Figure size 1400x400 with 3 Axes>"
      ]
     },
     "metadata": {},
     "output_type": "display_data"
    }
   ],
   "source": [
    "#So sánh kết quả\n",
    "labels = ['TabNet', 'XGBoost', 'CatBoost']\n",
    "accs = [acc_tabnet, acc_xgb, acc_cat]\n",
    "f1s = [f1_tabnet, f1_xgb, f1_cat]\n",
    "times = [tabnet_time, xgb_time, cat_time]\n",
    "\n",
    "plt.figure(figsize=(14,4))\n",
    "\n",
    "plt.subplot(1,3,1)\n",
    "plt.bar(labels, accs, color='skyblue')\n",
    "plt.title('Accuracy')\n",
    "\n",
    "plt.subplot(1,3,2)\n",
    "plt.bar(labels, f1s, color='orange')\n",
    "plt.title('F1 Score')\n",
    "\n",
    "plt.subplot(1,3,3)\n",
    "plt.bar(labels, times, color='lightgreen')\n",
    "plt.title('Train Time (s)')\n",
    "\n",
    "plt.tight_layout()\n",
    "plt.show()"
   ]
  },
  {
   "cell_type": "code",
   "execution_count": 15,
   "id": "f9f50c01",
   "metadata": {
    "execution": {
     "iopub.execute_input": "2025-05-23T06:50:11.200521Z",
     "iopub.status.busy": "2025-05-23T06:50:11.200305Z",
     "iopub.status.idle": "2025-05-23T06:50:11.712321Z",
     "shell.execute_reply": "2025-05-23T06:50:11.711765Z"
    },
    "papermill": {
     "duration": 0.544964,
     "end_time": "2025-05-23T06:50:11.713742",
     "exception": false,
     "start_time": "2025-05-23T06:50:11.168778",
     "status": "completed"
    },
    "tags": []
   },
   "outputs": [
    {
     "name": "stderr",
     "output_type": "stream",
     "text": [
      "/tmp/ipykernel_19/766532241.py:12: UserWarning: Glyph 128269 (\\N{LEFT-POINTING MAGNIFYING GLASS}) missing from current font.\n",
      "  plt.tight_layout()\n",
      "/usr/local/lib/python3.11/dist-packages/IPython/core/pylabtools.py:151: UserWarning: Glyph 128269 (\\N{LEFT-POINTING MAGNIFYING GLASS}) missing from current font.\n",
      "  fig.canvas.print_figure(bytes_io, **kw)\n"
     ]
    },
    {
     "data": {
      "image/png": "[encoded data removed]",
      "text/plain": [
       "<Figure size 800x500 with 1 Axes>"
      ]
     },
     "metadata": {},
     "output_type": "display_data"
    }
   ],
   "source": [
    "#Visualize TabNet feature importance\n",
    "import seaborn as sns\n",
    "\n",
    "feature_importances = tabnet.feature_importances_\n",
    "feature_names = X.columns\n",
    "feat_imp_df = pd.DataFrame({'feature': feature_names, 'importance': feature_importances})\n",
    "feat_imp_df = feat_imp_df.sort_values('importance', ascending=False).head(15)\n",
    "\n",
    "plt.figure(figsize=(8,5))\n",
    "sns.barplot(x='importance', y='feature', data=feat_imp_df, palette='Blues_r')\n",
    "plt.title(\"🔍 TabNet Feature Importance\")\n",
    "plt.tight_layout()\n",
    "plt.show()"
   ]
  }
 ],
 "metadata": {
  "kaggle": {
   "accelerator": "gpu",
   "dataSources": [
    {
     "datasetId": 7118050,
     "sourceId": 11370650,
     "sourceType": "datasetVersion"
    }
   ],
   "dockerImageVersionId": 31041,
   "isGpuEnabled": true,
   "isInternetEnabled": true,
   "language": "python",
   "sourceType": "notebook"
  },
  "kernelspec": {
   "display_name": "Python 3",
   "language": "python",
   "name": "python3"
  },
  "language_info": {
   "codemirror_mode": {
    "name": "ipython",
    "version": 3
   },
   "file_extension": ".py",
   "mimetype": "text/x-python",
   "name": "python",
   "nbconvert_exporter": "python",
   "pygments_lexer": "ipython3",
   "version": "3.11.11"
  },
  "papermill": {
   "default_parameters": {},
   "duration": 5660.502347,
   "end_time": "2025-05-23T06:50:13.372882",
   "environment_variables": {},
   "exception": null,
   "input_path": "__notebook__.ipynb",
   "output_path": "__notebook__.ipynb",
   "parameters": {},
   "start_time": "2025-05-23T05:15:52.870535",
   "version": "2.6.0"
  }
 },
 "nbformat": 4,
 "nbformat_minor": 5
}
